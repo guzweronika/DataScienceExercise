{
  "nbformat": 4,
  "nbformat_minor": 0,
  "metadata": {
    "colab": {
      "name": "Numpy_exercises.ipynb",
      "provenance": [],
      "collapsed_sections": [],
      "include_colab_link": true
    },
    "kernelspec": {
      "name": "python3",
      "display_name": "Python 3"
    }
  },
  "cells": [
    {
      "cell_type": "markdown",
      "metadata": {
        "id": "view-in-github",
        "colab_type": "text"
      },
      "source": [
        "<a href=\"https://colab.research.google.com/github/guzweronika/DataScienceExercise/blob/numpy/Numpy_exercises.ipynb\" target=\"_parent\"><img src=\"https://colab.research.google.com/assets/colab-badge.svg\" alt=\"Open In Colab\"/></a>"
      ]
    },
    {
      "cell_type": "markdown",
      "metadata": {
        "id": "WLEgCW5F1hho"
      },
      "source": [
        "## Numpy\n",
        "\n",
        "### Spis treści:\n",
        "* [Import the library](#0)\n",
        "* [1.  np.all()](#1)\n",
        "* [2.  np.all(__array__, axis=1)](#2)\n",
        "* [3.  np.any()](#3)\n",
        "* [4.  np.any(__array__, axis=0)](#4)\n",
        "* [5.  np.isnan()](#5)\n",
        "* [6.  np.allclose()](#6)\n",
        "* [7.  ==](#7)\n",
        "* [8.  >](#8)\n",
        "* [9.  np.zeros()](#9)\n",
        "* [10.  np.ones(), np.full()](#10)"
      ]
    },
    {
      "cell_type": "markdown",
      "metadata": {
        "id": "zeLOLmTj1kBM"
      },
      "source": [
        "### <a name='0'></a>Import the library"
      ]
    },
    {
      "cell_type": "code",
      "metadata": {
        "id": "HXMB7SMe1Wnz",
        "colab": {
          "base_uri": "https://localhost:8080/",
          "height": 35
        },
        "outputId": "22cb835b-a1d5-46d0-ab83-66921140203b"
      },
      "source": [
        "import numpy as np\n",
        "\n",
        "np.__version__"
      ],
      "execution_count": 2,
      "outputs": [
        {
          "output_type": "execute_result",
          "data": {
            "application/vnd.google.colaboratory.intrinsic+json": {
              "type": "string"
            },
            "text/plain": [
              "'1.19.5'"
            ]
          },
          "metadata": {
            "tags": []
          },
          "execution_count": 2
        }
      ]
    },
    {
      "cell_type": "markdown",
      "metadata": {
        "id": "cyc70pMe1oCg"
      },
      "source": [
        "### <a name='1'></a> EXERCISE 1.  np.all()\n",
        "Check if all elements array $A,B,C, D$ give a logic value _True_ (USE a function _np.all()_).\n"
      ]
    },
    {
      "cell_type": "code",
      "metadata": {
        "id": "IF1NmNBs1mxS",
        "colab": {
          "base_uri": "https://localhost:8080/"
        },
        "outputId": "1834c75b-3996-4981-a70f-17393963dc4f"
      },
      "source": [
        "A = np.array([[3, 2, 1, 4],\n",
        "              [5, 2, 1, 6]])\n",
        "\n",
        "B = np.array([[3, 2, 1, 4],\n",
        "              [5, 2, 0, 6]])\n",
        " \n",
        "C = np.array([[True, False, False],\n",
        "              [True, True, True]])\n",
        " Logic\n",
        "D = np.array([0.1, 0.3])\n",
        "\n",
        "\n",
        "print(f\"Value of all arguments in arrays /nA: {np.all(A)}\\nB: {np.all(B)}\\nC: {np.all(C)}\\nD: {np.all(D)}\")"
      ],
      "execution_count": null,
      "outputs": [
        {
          "output_type": "stream",
          "text": [
            "A: True\n",
            "B: False\n",
            "C: False\n",
            "D: True\n"
          ],
          "name": "stdout"
        }
      ]
    },
    {
      "cell_type": "markdown",
      "metadata": {
        "id": "cXOWTwNzmAaU"
      },
      "source": [
        "**NOTE** \n",
        "\n",
        "When is True in all() function?\n",
        "\n",
        "True is when in my array I have all arguments True values.\n",
        " False value have a 0 number and False."
      ]
    },
    {
      "cell_type": "markdown",
      "metadata": {
        "id": "J9pY1rtr1sC0"
      },
      "source": [
        "### <a name='2'></a> EXERCISE 2.  np.all(__array__, axis=1)\n",
        "Chceck if all arguments of arrays $A, B, C$ give a logic value _True_ on axis with index value 1. (USE a function _np.all()_ with  _axis_)\n",
        "\n",
        "\n",
        "\n",
        "\n"
      ]
    },
    {
      "cell_type": "code",
      "metadata": {
        "id": "zpTYzL-O1qxq",
        "colab": {
          "base_uri": "https://localhost:8080/"
        },
        "outputId": "9d1b3ab8-3112-47b2-e80b-bd100d3788c6"
      },
      "source": [
        "A = np.array([[3, 2, 1, 4],\n",
        "              [5, 2, 1, 6]])\n",
        " \n",
        "B = np.array([[3, 2, 1, 4],\n",
        "              [5, 2, 0, 6]])\n",
        " \n",
        "C = np.array([[True, False, False],\n",
        "              [True, True, True]])\n",
        "\n",
        "print(f\"Value of a all arguments in arrays on axis with index \\nA: {np.all(A, axis=1)}\\nB: {np.all(B, axis=1)}\\nC: {np.all(C, axis=1)}\")"
      ],
      "execution_count": null,
      "outputs": [
        {
          "output_type": "stream",
          "text": [
            "Value of a all arguments in arrays on axis with index \n",
            "A: [ True  True]\n",
            "B: [ True False]\n",
            "C: [False  True]\n"
          ],
          "name": "stdout"
        }
      ]
    },
    {
      "cell_type": "markdown",
      "metadata": {
        "id": "zrGYwdgypitq"
      },
      "source": [
        "**NOTE**\n",
        "\n",
        "The function __np.all()__ with argument __axis__ returns values True or False in a arrays. True value returns for a arguments where the all arguments in index axis (in rows) are True"
      ]
    },
    {
      "cell_type": "markdown",
      "metadata": {
        "id": "XQLYT2m11wVG"
      },
      "source": [
        "### <a name='3'></a> EXERCISE 3. np.any()\n",
        "Check if any argument of arrays $A, B, C, D$ give a logic value _True_. (USE  a function _np.any()_)\n",
        "\n"
      ]
    },
    {
      "cell_type": "code",
      "metadata": {
        "id": "8ZdasxYF1u8f",
        "colab": {
          "base_uri": "https://localhost:8080/"
        },
        "outputId": "d7a60071-7ce9-47fa-f70f-6ed158495fd9"
      },
      "source": [
        "A = np.array([[0, 0, 0],\n",
        "              [0, 0, 0]])\n",
        " \n",
        "B = np.array([[0, 0, 0],\n",
        "              [0, 1, 0]Logic])\n",
        " \n",
        "C = np.array([[False, False, False],\n",
        "              [True, False, False]])\n",
        " \n",
        "D = np.array([[0.1, 0.0]])\n",
        "\n",
        "\n",
        "print(f\"Value of a any arguments in arrays \\nA: {np.any(A)}\\nB: {np.any(B)}\\nC: {np.any(C)}\\nD: {np.any(D)}\")"
      ],
      "execution_count": null,
      "outputs": [
        {
          "output_type": "stream",
          "text": [
            "Value of a any arguments in arrays \n",
            "A: False\n",
            "B: True\n",
            "C: True\n",
            "D: True\n"
          ],
          "name": "stdout"
        }
      ]
    },
    {
      "cell_type": "markdown",
      "metadata": {
        "id": "qKgYMZsixOJu"
      },
      "source": [
        "**NOTE**\n",
        "\n",
        "The function __np.any()__ returns values True or False in a arrays. True value returns for a arguments where the one of arguments is a False (for 0 or False)"
      ]
    },
    {
      "cell_type": "markdown",
      "metadata": {
        "id": "4xTKSUzg10MK"
      },
      "source": [
        "### <a name='4'></a> EXERCISE 4. np.any(__array__, axis=0)\n",
        "Check if any of elements of arrays $A, B, C D$ give a logic value_True_ in index axis 0. (USE _any()_ functions with a param _axis_)"
      ]
    },
    {
      "cell_type": "code",
      "metadata": {
        "id": "XdfedHWm1ynE",
        "colab": {
          "base_uri": "https://localhost:8080/"
        },
        "outputId": "07661bf9-286c-499a-e2d0-7021715961c0"
      },
      "source": [
        "A = np.array([[0, 0, 0],\n",
        "              [0, 0, 0]])\n",
        "\n",
        "B = np.array([[0, 0, 0],\n",
        "              [0, 1, 0]])\n",
        "\n",
        "C = np.array([[False, False, False],\n",
        "              [True, False, False]])\n",
        "\n",
        "D = np.array([[0.1, 0.0]])\n",
        "\n",
        "print(f\"Value of a any arguments in arrays \\nA: {np.any(A, axis=0)}\\nB: {np.any(B, axis=0)}\\nC: {np.any(C, axis=0)}\\nD: {np.any(D, axis=0)}\")"
      ],
      "execution_count": null,
      "outputs": [
        {
          "output_type": "stream",
          "text": [
            "Value of a any arguments in arrays \n",
            "A: [False False False]\n",
            "B: [False  True False]\n",
            "C: [ True False False]\n",
            "D: [ True False]\n"
          ],
          "name": "stdout"
        }
      ]
    },
    {
      "cell_type": "markdown",
      "metadata": {
        "id": "CrPvplpeF7YJ"
      },
      "source": [
        "**NOTE** \n",
        "The function np.any() with argument axis returns values True or False in a arrays. True value returns for a arguments where the one of arguments in index axis (in columns) are True (is not a 0 or False)"
      ]
    },
    {
      "cell_type": "markdown",
      "metadata": {
        "id": "o3HKIKlP15Ro"
      },
      "source": [
        "### <a name='5'></a> EXERCISE 5. _np.isnan()_\n",
        "Check a array $A$ if are there lack of data (_np.nan_). (USE function _np.isnan()_)\n"
      ]
    },
    {
      "cell_type": "code",
      "metadata": {
        "id": "pjKDpdCy12cg",
        "colab": {
          "base_uri": "https://localhost:8080/"
        },
        "outputId": "ebb3088d-bc4a-4841-8b25-857eaab7e5ea"
      },
      "source": [
        "A = np.array([[3, 2, 1, np.nan],\n",
        "              [5, np.nan, 1, 6]])\n",
        "\n",
        "print(f'Lack of data in A array\\nA: {np.isnan(A)}')"
      ],
      "execution_count": 3,
      "outputs": [
        {
          "output_type": "stream",
          "text": [
            "Lack of data in A array\n",
            "A: [[False False False  True]\n",
            " [False  True False False]]\n"
          ],
          "name": "stdout"
        }
      ]
    },
    {
      "cell_type": "markdown",
      "metadata": {
        "id": "9fzYWfhIJ5Aj"
      },
      "source": [
        "**NOTE** np.isnan() function give a logical value True is a elements is a value np.nan\n",
        "\n"
      ]
    },
    {
      "cell_type": "markdown",
      "metadata": {
        "id": "PunXd_Ey16so"
      },
      "source": [
        "### <a name='6'></a> EXERCISE 6. _np.allclose()_\n",
        "Check if the arrays $A, B$ are element-wise equal within a tolerance.\n",
        "(USE function _np.allclose()_)\n"
      ]
    },
    {
      "cell_type": "code",
      "metadata": {
        "id": "gJTx2KhF175d",
        "colab": {
          "base_uri": "https://localhost:8080/"
        },
        "outputId": "a24eef81-6382-466f-d398-0e507ad5e4d8"
      },
      "source": [
        "A = np.array([0.4, 0.5, 0.3])\n",
        "B = np.array([0.39999999, 0.5000001, 0.3])\n",
        "\n",
        "print(f'Compare of arrays A and B {np.allclose(A, B)}')"
      ],
      "execution_count": null,
      "outputs": [
        {
          "output_type": "stream",
          "text": [
            " True\n"
          ],
          "name": "stdout"
        }
      ]
    },
    {
      "cell_type": "markdown",
      "metadata": {
        "id": "ckxsTzOEnXJh"
      },
      "source": [
        "**NOTE** function _np.allclose()_ give a logic value True if elements-wise of two arrays are equal with tolerance"
      ]
    },
    {
      "cell_type": "markdown",
      "metadata": {
        "id": "hOhqDRz618Tx"
      },
      "source": [
        "### <a name='7'></a> EXERCISE 7 _==_\n",
        "Check if arrays $A, B$ are equal are element-wise equal. (USE function _==_)\n"
      ]
    },
    {
      "cell_type": "code",
      "metadata": {
        "id": "G4jvbzwe1-AH",
        "colab": {
          "base_uri": "https://localhost:8080/"
        },
        "outputId": "c9e65988-1602-424f-9398-d0e345c22a10"
      },
      "source": [
        "A = np.array([0.4, 0.5, 0.3])\n",
        "B = np.array([0.3999999999, 0.5000000001, 0.3])\n",
        "\n",
        "print(f'Compare each element in arrays A and B: {A==B}')"
      ],
      "execution_count": null,
      "outputs": [
        {
          "output_type": "stream",
          "text": [
            "Compare each element in arrays A and B: [False False  True]\n"
          ],
          "name": "stdout"
        }
      ]
    },
    {
      "cell_type": "markdown",
      "metadata": {
        "id": "2hHSppBGrHKH"
      },
      "source": [
        "**NOTE** function _==_ give a logic value True for each array elemen if elements-wise of two arrays are equal without tolerance (is direct equal)\n",
        "\n",
        "TIP: you can use np.equal()"
      ]
    },
    {
      "cell_type": "markdown",
      "metadata": {
        "id": "TXUd_4631-gw"
      },
      "source": [
        "### <a name='8'></a> EXERCISE 8 _>_\n",
        "Check which elements-wise on array $A$ has a larger value as array $B$"
      ]
    },
    {
      "cell_type": "code",
      "metadata": {
        "id": "QWK7Yr671_xV",
        "colab": {
          "base_uri": "https://localhost:8080/"
        },
        "outputId": "b7999e27-5a2e-4772-d09d-112bff2306ba"
      },
      "source": [
        "A = np.array([0.4, 0.5, 0.3, 0.9])\n",
        "B = np.array([0.38, 0.51, 0.3, 0.91])\n",
        "\n",
        "print(f'Elements in array A are larger than in array B:\\n {A>B}')"
      ],
      "execution_count": null,
      "outputs": [
        {
          "output_type": "stream",
          "text": [
            "Elements in array A are larger than in array B:\n",
            " [ True False False False]\n"
          ],
          "name": "stdout"
        }
      ]
    },
    {
      "cell_type": "markdown",
      "metadata": {
        "id": "UrNSAZ7PyPmj"
      },
      "source": [
        "**NOTE** Sign _>_ give a logic value for elements from array A greather as in array B\n",
        "\n",
        "TIP: yoo can use function np.greather()"
      ]
    },
    {
      "cell_type": "markdown",
      "metadata": {
        "id": "tgI6xEn-2AQo"
      },
      "source": [
        "### <a name='9'></a> EXERCISE 9 _np.zeros()_\n",
        "Create numpy array size 4x4 fill in zeros. Set data type in _int_. (USE function _np.zeros()_)\n"
      ]
    },
    {
      "cell_type": "code",
      "metadata": {
        "id": "-_mfXExMOeSc",
        "colab": {
          "base_uri": "https://localhost:8080/"
        },
        "outputId": "7be9f131-45d9-434f-a1d1-265365aa948f"
      },
      "source": [
        "A = np.zeros((4,4), dtype='int')\n",
        "\n",
        "print(f'Array A \\n{A}')\n",
        "\n",
        "print(f'\\nType of elements array A: {type(A[1,1])}')"
      ],
      "execution_count": 4,
      "outputs": [
        {
          "output_type": "stream",
          "text": [
            "Array A \n",
            "[[0 0 0 0]\n",
            " [0 0 0 0]\n",
            " [0 0 0 0]\n",
            " [0 0 0 0]]\n",
            "\n",
            "Type of elements array A: <class 'numpy.int64'>\n"
          ],
          "name": "stdout"
        }
      ]
    },
    {
      "cell_type": "markdown",
      "metadata": {
        "id": "wxhpf-uq2B1I"
      },
      "source": [
        "### <a name='10'></a> EXERCISE 10 _np.ones()_ _np.full()_\n",
        "Create a numpy array in size _10x10_ fill in 255 numbers. Set data type in _float_. (USE function _np.ones()_ or _np.fill()_)\n"
      ]
    },
    {
      "cell_type": "code",
      "metadata": {
        "id": "49lqFGT42Dji",
        "colab": {
          "base_uri": "https://localhost:8080/"
        },
        "outputId": "02447c8a-af7d-4f36-98d3-965a793a3927"
      },
      "source": [
        "A_ones = np.ones((10,10)) * 255\n",
        "print(f'Array A in ones function: \\n{A_ones} \\nwith array elements type: {type(A_ones[0,0])}\\n\\n')\n",
        "\n",
        "B_full = np.full((10,10), 255, dtype=float)\n",
        "print(f'Array B in full function:\\n{B_full} \\nwith array elements type: {type(B_full[0,0])}')"
      ],
      "execution_count": 5,
      "outputs": [
        {
          "output_type": "stream",
          "text": [
            "Array A in ones function: \n",
            "[[255. 255. 255. 255. 255. 255. 255. 255. 255. 255.]\n",
            " [255. 255. 255. 255. 255. 255. 255. 255. 255. 255.]\n",
            " [255. 255. 255. 255. 255. 255. 255. 255. 255. 255.]\n",
            " [255. 255. 255. 255. 255. 255. 255. 255. 255. 255.]\n",
            " [255. 255. 255. 255. 255. 255. 255. 255. 255. 255.]\n",
            " [255. 255. 255. 255. 255. 255. 255. 255. 255. 255.]\n",
            " [255. 255. 255. 255. 255. 255. 255. 255. 255. 255.]\n",
            " [255. 255. 255. 255. 255. 255. 255. 255. 255. 255.]\n",
            " [255. 255. 255. 255. 255. 255. 255. 255. 255. 255.]\n",
            " [255. 255. 255. 255. 255. 255. 255. 255. 255. 255.]] \n",
            "with array elements type: <class 'numpy.float64'>\n",
            "\n",
            "\n",
            "Array B in full function:\n",
            "[[255. 255. 255. 255. 255. 255. 255. 255. 255. 255.]\n",
            " [255. 255. 255. 255. 255. 255. 255. 255. 255. 255.]\n",
            " [255. 255. 255. 255. 255. 255. 255. 255. 255. 255.]\n",
            " [255. 255. 255. 255. 255. 255. 255. 255. 255. 255.]\n",
            " [255. 255. 255. 255. 255. 255. 255. 255. 255. 255.]\n",
            " [255. 255. 255. 255. 255. 255. 255. 255. 255. 255.]\n",
            " [255. 255. 255. 255. 255. 255. 255. 255. 255. 255.]\n",
            " [255. 255. 255. 255. 255. 255. 255. 255. 255. 255.]\n",
            " [255. 255. 255. 255. 255. 255. 255. 255. 255. 255.]\n",
            " [255. 255. 255. 255. 255. 255. 255. 255. 255. 255.]] \n",
            "with array elements type: <class 'numpy.float64'>\n"
          ],
          "name": "stdout"
        }
      ]
    }
  ]
}